{
 "cells": [
  {
   "cell_type": "markdown",
   "metadata": {},
   "source": [
    "## Modelo del rendimiento de una cuenta de ahorro\n",
    "> ___Interés compuesto continuo___.\n",
    "Ya es sabido que para una tasa de interés nominal constante, si la frecuencia de capitalización aumenta, el monto compuesto resultante también aumenta. Cuando la frecuenca con la que el interés se capitaliza crece indefinidamente, se habla de que los intereses se generan de forma continua, llamándosele interés compuesto continuo al que se calcula de ese modo. Al trabajar con estamodalidad de interés, el monto compuesto no tiende a ser infinitamente grande como a veces se piensa, sino que tiende a acercarse a un valor límite.\n",
    "\n",
    "Referencia: \n",
    "- https://es.slideshare.net/tmateo14/inters-compuesto-continuo\n",
    "- https://es.wikipedia.org/wiki/Capitalizaci%C3%B3n_continua"
   ]
  },
  {
   "cell_type": "markdown",
   "metadata": {},
   "source": [
    "___\n",
    "El anterior fenómeno se puede pensar también, como que a cada instante de tiempo $t$ se obtiene un rendimiento proporcional al monto actual $C(t)$. En este caso, la constante de proporcionalidad es el interés compuesto continuo $r$. Un modelo que representa esta situación es la siguiente ecuación diferencial de primer orden \n",
    "\n",
    "$$\\frac{d C(t)}{dt}=r\\; C(t),$$\n",
    "\n",
    "sujeto a la condición inicial (monto o capital inicial) $C(0)=C_0$."
   ]
  },
  {
   "cell_type": "markdown",
   "metadata": {},
   "source": [
    "La anterior, es una ecuación diferencial lineal de primer orden, para la cual se puede calcular la *solución analítica*."
   ]
  },
  {
   "cell_type": "code",
   "execution_count": 13,
   "metadata": {
    "collapsed": true
   },
   "outputs": [],
   "source": [
    "from sympy import *\n",
    "\n",
    "# Para imprimir en formato TeX\n",
    "from sympy import init_printing; init_printing(use_latex='mathjax')\n",
    "\n",
    "t, r = symbols(\"t r\")\n",
    "C, f = map(Function, 'Cf')"
   ]
  },
  {
   "cell_type": "code",
   "execution_count": 14,
   "metadata": {
    "collapsed": false
   },
   "outputs": [
    {
     "data": {
      "text/latex": [
       "$$- r C{\\left (t \\right )} + \\frac{d}{d t} C{\\left (t \\right )} = 0$$"
      ],
      "text/plain": [
       "          d           \n",
       "-r⋅C(t) + ──(C(t)) = 0\n",
       "          dt          "
      ]
     },
     "metadata": {},
     "output_type": "display_data"
    },
    {
     "data": {
      "text/latex": [
       "$$C{\\left (t \\right )} = C_{1} e^{r t}$$"
      ],
      "text/plain": [
       "           r⋅t\n",
       "C(t) = C₁⋅ℯ   "
      ]
     },
     "execution_count": 14,
     "metadata": {},
     "output_type": "execute_result"
    }
   ],
   "source": [
    "eqn = Eq(Derivative(C(t),t) - r*C(t), 0)\n",
    "display(eqn)\n",
    "dsolve(eqn, C(t))"
   ]
  },
  {
   "cell_type": "markdown",
   "metadata": {},
   "source": [
    "con $C_1=C_0$."
   ]
  },
  {
   "cell_type": "markdown",
   "metadata": {},
   "source": [
    "___\n",
    "¿Cómo podemos calcular la *solución numérica*?"
   ]
  },
  {
   "cell_type": "code",
   "execution_count": 57,
   "metadata": {
    "collapsed": true
   },
   "outputs": [],
   "source": [
    "# Librerías para cálculo numérico\n",
    "import numpy as np\n",
    "# Librerías para integración numérica\n",
    "from scipy.integrate import odeint\n",
    "# Librerías para gráficos\n",
    "import matplotlib.pyplot as plt\n",
    "# Para que se muestren las gráficas en la misma ventana\n",
    "%matplotlib inline"
   ]
  },
  {
   "cell_type": "code",
   "execution_count": 58,
   "metadata": {
    "collapsed": true
   },
   "outputs": [],
   "source": [
    "# Modelo de capitalización continua\n",
    "def cap_continua(CC, tt, rr):\n",
    "    return rr * CC"
   ]
  },
  {
   "cell_type": "code",
   "execution_count": 64,
   "metadata": {
    "collapsed": false
   },
   "outputs": [
    {
     "data": {
      "image/png": "[encoded data removed]",
      "text/plain": [
       "<matplotlib.figure.Figure at 0x7f83845c3ef0>"
      ]
     },
     "metadata": {},
     "output_type": "display_data"
    }
   ],
   "source": [
    "# Capital inicial\n",
    "C0 = 5000\n",
    "# Interés continuo del 1%\n",
    "rr = 0.0004\n",
    "tt = np.linspace(0, 3*360)\n",
    "CC = odeint(cap_continua, C0, tt, args = (rr,))\n",
    "plt.plot(tt, CC)\n",
    "plt.xlabel('$t$', fontsize = 18)\n",
    "plt.ylabel('$C(t)$', fontsize = 18)\n",
    "plt.show()"
   ]
  },
  {
   "cell_type": "markdown",
   "metadata": {},
   "source": [
    "Ver que lo anterior es una aproximación continua del modelo discreto de interés continuo cuando la frecuencia de capitalización tiende a infinito"
   ]
  },
  {
   "cell_type": "code",
   "execution_count": null,
   "metadata": {
    "collapsed": true
   },
   "outputs": [],
   "source": []
  }
 ],
 "metadata": {
  "kernelspec": {
   "display_name": "Python [Root]",
   "language": "python",
   "name": "Python [Root]"
  },
  "language_info": {
   "codemirror_mode": {
    "name": "ipython",
    "version": 3
   },
   "file_extension": ".py",
   "mimetype": "text/x-python",
   "name": "python",
   "nbconvert_exporter": "python",
   "pygments_lexer": "ipython3",
   "version": "3.5.2"
  }
 },
 "nbformat": 4,
 "nbformat_minor": 2
}
